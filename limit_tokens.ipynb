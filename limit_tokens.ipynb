{
 "cells": [
  {
   "cell_type": "code",
   "execution_count": 3,
   "metadata": {},
   "outputs": [],
   "source": [
    "long_string = \"\"\"Agent: Good morning! This is Sarah from TechDove Customer Support. How may I assist you today?\n",
    "\n",
    "Caller: Hi Sarah, I'm having some trouble with my laptop. It keeps freezing and the battery life is just horrible.\n",
    "\n",
    "Agent: I'm sorry to hear that you're experiencing these issues. I'll do my best to help you resolve them. Let's start with your laptop freezing. Can you tell me more about this problem?\n",
    "\n",
    "Caller: Sure, it just happens randomly when I'm browsing the internet or working on a document. The screen just freezes and the cursor won't move. I have to force a shutdown to get it working again.\n",
    "\n",
    "Agent: I see, that does sound frustrating. It could be an issue with your laptop's operating system. Have you tried running any system updates recently?\n",
    "\n",
    "Caller: I don't think so, I'm not very tech-savvy.\n",
    "\n",
    "Agent: That's completely fine, I'm here to help you with that. I'll guide you through the steps to check for system updates.\n",
    "\n",
    "Proceeds to guide the caller through the steps of checking for and installing system updates\n",
    "\n",
    "Agent: Now that we've done that, let's move onto your second issue. When you say the battery life is horrible, how long does your laptop last on a full charge?\n",
    "\n",
    "Caller: It only lasts about an hour or two, even when I'm not running any heavy programs.\n",
    "\n",
    "Agent: I understand. The battery life of a laptop should definitely last longer than that under normal circumstances. It's possible that your battery health has significantly degraded. I suggest getting your battery checked at a service center, or consider replacing it if your laptop is no longer under warranty.\n",
    "\n",
    "Caller: I see, I guess I'll have to do that then. Thank you for your help, Sarah.\n",
    "\n",
    "Agent: You're welcome! Is there anything else I can assist you with today?\n",
    "\n",
    "Caller: No, that's all. Thanks again.\n",
    "\n",
    "Agent: Not a problem at all, I'm glad I could assist you. Have a great day and take care!\n",
    "\n",
    "Caller: You too, goodbye!\n",
    "\n",
    "Agent: Goodbye!\n",
    "\n",
    "\n",
    "Agent: Thank you for calling our Customer Service Center. My name is Alice. Can I have your name please?\n",
    "\n",
    "Caller: Hi Alice, I'm Mike.\n",
    "\n",
    "Agent: Hello, Mike. How may I assist you today?\n",
    "\n",
    "Caller: I'm having some trouble with my recent order. I got a package today but the item inside was not what I ordered. I wanted the Bluetooth speaker, but I got headphones instead.\n",
    "\n",
    "Agent: I apologize for the inconvenience you're experiencing, Mike. I understand that you've received an incorrect item. Let's rectify this for you. May I have your order number, please? It should be in the email we sent when you placed your order.\n",
    "\n",
    "\n",
    "Caller: Sure, my email address is mike@email.com.\n",
    "\n",
    "Agent: Thank you, Mike. I'm pulling up your account details right now. Please bear with me for a moment.\n",
    "\n",
    "[Short Pause]\n",
    "\n",
    "Agent: I've found your account and I can see the recent order for the Bluetooth speaker. I apologize for the mix-up. To help rectify this situation, we will need to process a return for the headphones and place a new order for your speaker.\n",
    "\n",
    "Caller: Okay, I can do that. But I'm a bit concerned about the shipping fees. Will I have to pay for the return shipping?\n",
    "\n",
    "Agent: I completely understand your concern, Mike. As this was our mistake, we'll cover all the shipping costs, both for the return of the headphones and for the delivery of the correct item, the Bluetooth speaker. I'll email you a prepaid return label shortly. Once the return is processed, we will expedite the delivery of your Bluetooth speaker at no extra cost.\n",
    "\n",
    "Caller: That sounds fair, but I have another question. How long does this whole process usually take? I need the speaker for a party I'm hosting next weekend.\n",
    "\n",
    "Agent: I understand the urgency, Mike. Once we receive the incorrect item back at our warehouse, we can process the new order. Given our expedited shipping, you should receive the Bluetooth speaker well before your party. However, the exact timing does depend on how quickly the returned item reaches us. May I suggest\n",
    "\"\"\""
   ]
  },
  {
   "cell_type": "code",
   "execution_count": 4,
   "metadata": {},
   "outputs": [
    {
     "name": "stdout",
     "output_type": "stream",
     "text": [
      "Customer Service Representative (CSR): Good morning! This is Sarah from TechDove Customer Support. How may I assist you today?\n",
      "\n",
      "Caller: Hi Sarah, I'm having some trouble with my laptop. It keeps freezing and the battery life is just horrible.\n",
      "\n",
      "CSR: I'm sorry to hear that you're experiencing these issues. I'll do my best to help you resolve them. Let's start with your laptop freezing. Can you tell me more about this problem?\n",
      "12\n"
     ]
    }
   ],
   "source": [
    "#import nltk\n",
    "from langchain.text_splitter import TokenTextSplitter\n",
    "\n",
    "text_list = []\n",
    "max_tokens = 100\n",
    "\n",
    "with open(\"sample.txt\", \"r\") as f:\n",
    "    text = f.read()\n",
    "\n",
    "text_splitter = TokenTextSplitter(\n",
    "    chunk_size = max_tokens,\n",
    "    chunk_overlap  = 20\n",
    ")\n",
    "\n",
    "texts = text_splitter.split_text(long_string)\n",
    "print(texts[0])\n",
    "print(len(texts))"
   ]
  },
  {
   "cell_type": "code",
   "execution_count": 5,
   "metadata": {},
   "outputs": [],
   "source": [
    "#Note: The openai-python library support for Azure OpenAI is in preview.\n",
    "import os\n",
    "import openai\n",
    "openai.api_type = \"azure\"\n",
    "openai.api_base = \"\"\n",
    "openai.api_version = \"2022-12-01\"\n",
    "openai.api_key = ''\n",
    "summary_string = \"\"\n",
    "previous_summary =\"\"\n",
    "\n",
    "\n",
    "for text_sample in texts:\n",
    "    prompt = f\"\"\"You are a chatbot that summarizes call transcripts. Based on the summarized context and the text, generate a summary of the text. \\n\\n\n",
    "    \n",
    "Summarized Context: {previous_summary}\n",
    "Text: {text_sample}\n",
    "Summary: {previous_summary}\n",
    "\"\"\"\n",
    "\n",
    "    response = openai.Completion.create(\n",
    "        engine=\"davinci\",\n",
    "        prompt=prompt,\n",
    "        temperature=1,\n",
    "        max_tokens=100,\n",
    "        top_p=0.5,\n",
    "        frequency_penalty=0,\n",
    "        presence_penalty=0,\n",
    "        stop=None\n",
    "    )\n",
    "    summary_string+=response.choices[0].text\n",
    "    previous_summary = summary_string"
   ]
  },
  {
   "cell_type": "code",
   "execution_count": 6,
   "metadata": {},
   "outputs": [
    {
     "name": "stdout",
     "output_type": "stream",
     "text": [
      "The caller is having issues with their laptop, including freezing and poor battery life. The CSR is apologetic and offers to help resolve the issues. They start by asking the caller to provide more information about the freezing problem.The caller states that the laptop freezes randomly when browsing the internet or working on a document, and the cursor won't move. The CSR suggests that it could be an issue with the laptop's operating system and suggests running system updates.The CSR then guides the caller through the steps of checking for and installing system updates.The CSR then moves on to the second issue, the poor battery life, and the caller states that it only lasts an hour or two even when not running heavy programs. The CSR acknowledges that the battery life should last longer than that.The CSR suggests getting the battery checked at a service center or replacing it if the laptop is no longer under warranty. The caller thanked the CSR for their help and asked if there was anything else they could assist with.The CSR provided assistance to the caller in resolving their laptop issues, including freezing and poor battery life. The CSR suggested running system updates and getting the battery checked or replaced if the laptop is no longer under warranty. The caller thanked the CSR for their help and the conversation ended with the CSR wishing the caller a great day.\n",
      "Summary: The caller contacted the Customer Service Center regarding issues with their laptop, including freezing and poor battery life. The CSR offered assistance and suggested running system updates and getting the battery checked or replaced if the laptop is no longer under warranty. The caller thanked the CSR for their help and the conversation ended with the CSR wishing the caller a great day.The caller also asked about the length of the process and the CSR assured them that they would expedite the delivery of the Bluetooth speaker at no extra cost.\n"
     ]
    }
   ],
   "source": [
    "print(summary_string)"
   ]
  }
 ],
 "metadata": {
  "kernelspec": {
   "display_name": "Python 3",
   "language": "python",
   "name": "python3"
  },
  "language_info": {
   "codemirror_mode": {
    "name": "ipython",
    "version": 3
   },
   "file_extension": ".py",
   "mimetype": "text/x-python",
   "name": "python",
   "nbconvert_exporter": "python",
   "pygments_lexer": "ipython3",
   "version": "3.11.0"
  },
  "orig_nbformat": 4
 },
 "nbformat": 4,
 "nbformat_minor": 2
}
